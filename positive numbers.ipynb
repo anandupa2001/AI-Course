{
 "cells": [
  {
   "cell_type": "code",
   "execution_count": 1,
   "id": "c0b04267",
   "metadata": {},
   "outputs": [
    {
     "name": "stdout",
     "output_type": "stream",
     "text": [
      "[34, 0, 23, 1, 56]\n",
      "[-21, -3490, -93, -95]\n"
     ]
    }
   ],
   "source": [
    "list=[-21,34,-3490,0,23,1,56,-93,-95]\n",
    "def positive(list):\n",
    "    evenlist=[]\n",
    "    oddlist=[]\n",
    "    for x in list:\n",
    "        if x>=0:\n",
    "            evenlist.append(x)\n",
    "        else:\n",
    "            oddlist.append(x)\n",
    "    print(evenlist)\n",
    "    print(oddlist)\n",
    "positive(list)"
   ]
  },
  {
   "cell_type": "code",
   "execution_count": null,
   "id": "36e07673",
   "metadata": {},
   "outputs": [],
   "source": []
  }
 ],
 "metadata": {
  "kernelspec": {
   "display_name": "Python 3",
   "language": "python",
   "name": "python3"
  },
  "language_info": {
   "codemirror_mode": {
    "name": "ipython",
    "version": 3
   },
   "file_extension": ".py",
   "mimetype": "text/x-python",
   "name": "python",
   "nbconvert_exporter": "python",
   "pygments_lexer": "ipython3",
   "version": "3.8.8"
  }
 },
 "nbformat": 4,
 "nbformat_minor": 5
}
