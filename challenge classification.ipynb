{
 "cells": [
  {
   "cell_type": "code",
   "execution_count": null,
   "id": "7890d9be",
   "metadata": {},
   "outputs": [],
   "source": [
    "#Image classification\n",
    "\n",
    "#Will be making use of decision Tree classification Algorithm\n",
    "\n",
    "#1) Using Iris Flower dataset for our image classification\n",
    "\n",
    "from sklearn import datasets #importing toy dataset\n",
    "iris=datasets.load_iris() #loading iris data set\n",
    "x=iris.data #storing the features\n",
    "y=iris.target #our target variable\n",
    "from sklearn.model_selection import train_test_split #time to split data into train and test\n",
    "x_train,x_test,y_train,y_test=train_test_split(x,y,test_size=.3) #here test data is 30% of our total data and train is 70%\n",
    "from sklearn import tree #our algorithm\n",
    "classifier=tree.DecisionTreeClassifier()\n",
    "classifier.fit(x_train,y_train)\n",
    "predictions=classifier.predict(x_test) #predicting using features in test model\n",
    "from sklearn.metrics import accuracy_score #calculating accuracy of the model\n",
    "print(accuracy_score(y_test,predictions))\n",
    "0.9777777777777777"
   ]
  },
  {
   "cell_type": "code",
   "execution_count": null,
   "id": "18ed324b",
   "metadata": {},
   "outputs": [],
   "source": [
    "#Using Breast Cancer Wisconsin Dataset\n",
    "\n",
    "from sklearn import datasets #importing toy dataset\n",
    "cancer=datasets.load_breast_cancer() #loading the dataset\n",
    "x=cancer.data\n",
    "y=cancer.target\n",
    "from sklearn.model_selection import train_test_split #time to split data into train and test\n",
    "x_train,x_test,y_train,y_test=train_test_split(x,y,test_size=.4) #here test data is 40% of our total data and train is 60%\n",
    "from sklearn import tree #importing the algorithm\n",
    "classifier=tree.DecisionTreeClassifier() #decision tree algorithm\n",
    "classifier.fit(x_train,y_train)\n",
    "predictions=classifier.predict(x_test) #predicting using features in test model\n",
    "from sklearn.metrics import accuracy_score #calculating accuracy of the model\n",
    "print(accuracy_score(y_test,predictions))\n",
    "0.9122807017543859"
   ]
  }
 ],
 "metadata": {
  "kernelspec": {
   "display_name": "Python 3",
   "language": "python",
   "name": "python3"
  },
  "language_info": {
   "codemirror_mode": {
    "name": "ipython",
    "version": 3
   },
   "file_extension": ".py",
   "mimetype": "text/x-python",
   "name": "python",
   "nbconvert_exporter": "python",
   "pygments_lexer": "ipython3",
   "version": "3.8.8"
  }
 },
 "nbformat": 4,
 "nbformat_minor": 5
}
